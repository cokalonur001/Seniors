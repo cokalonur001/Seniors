{
 "cells": [
  {
   "cell_type": "code",
   "execution_count": 1,
   "metadata": {},
<<<<<<< HEAD
=======
<<<<<<< Updated upstream
>>>>>>> fdbc6f2f1e04accecbd9ae3653c8c66262ce1782
   "outputs": [
    {
     "name": "stdout",
     "output_type": "stream",
     "text": [
<<<<<<< HEAD
      "hello world\n"
=======
      "Hello Word\n"
>>>>>>> fdbc6f2f1e04accecbd9ae3653c8c66262ce1782
     ]
    }
   ],
   "source": [
<<<<<<< HEAD
    "print(\"hello world\")"
=======
    "print(\"Hello Word\")"
=======
   "outputs": [],
   "source": [
    "print(\"Hello, World!\")"
>>>>>>> Stashed changes
>>>>>>> fdbc6f2f1e04accecbd9ae3653c8c66262ce1782
   ]
  }
 ],
 "metadata": {
  "kernelspec": {
   "display_name": "Python 3",
   "language": "python",
   "name": "python3"
  },
  "language_info": {
   "codemirror_mode": {
    "name": "ipython",
    "version": 3
   },
   "file_extension": ".py",
   "mimetype": "text/x-python",
   "name": "python",
   "nbconvert_exporter": "python",
   "pygments_lexer": "ipython3",
   "version": "3.11.1"
  },
  "orig_nbformat": 4
 },
 "nbformat": 4,
 "nbformat_minor": 2
}
